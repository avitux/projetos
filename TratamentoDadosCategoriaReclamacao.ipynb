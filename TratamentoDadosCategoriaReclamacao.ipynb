{
 "cells": [
  {
   "cell_type": "markdown",
   "id": "6d82969d-6add-450b-bd7c-bda8842ad9cf",
   "metadata": {},
   "source": [
    "# Bibliotecas"
   ]
  },
  {
   "cell_type": "markdown",
   "id": "8891c3a5-bf93-4ace-b5f3-fc051ec4d27a",
   "metadata": {},
   "source": [
    "Importação de bibliotecas necessarias para o projeto"
   ]
  },
  {
   "cell_type": "code",
   "execution_count": 1,
   "id": "a05257bc-a786-4930-baad-5a6aff8dc732",
   "metadata": {},
   "outputs": [
    {
     "name": "stdout",
     "output_type": "stream",
     "text": [
      "\u001b[38;5;2m✔ Download and installation successful\u001b[0m\n",
      "You can now load the package via spacy.load('pt_core_news_sm')\n"
     ]
    }
   ],
   "source": [
    "!pip install spacy --quiet\n",
    "!python -m spacy download pt_core_news_sm --quiet"
   ]
  },
  {
   "cell_type": "code",
   "execution_count": 2,
   "id": "5fbb101a-175c-4c35-8e5d-86b48236e4da",
   "metadata": {},
   "outputs": [
    {
     "name": "stdout",
     "output_type": "stream",
     "text": [
      "sagemaker.config INFO - Not applying SDK defaults from location: /etc/xdg/sagemaker/config.yaml\n",
      "sagemaker.config INFO - Not applying SDK defaults from location: /home/sagemaker-user/.config/sagemaker/config.yaml\n"
     ]
    },
    {
     "name": "stderr",
     "output_type": "stream",
     "text": [
      "[nltk_data] Downloading package stopwords to /home/sagemaker-\n",
      "[nltk_data]     user/nltk_data...\n",
      "[nltk_data]   Package stopwords is already up-to-date!\n",
      "[nltk_data] Downloading package punkt to /home/sagemaker-\n",
      "[nltk_data]     user/nltk_data...\n",
      "[nltk_data]   Package punkt is already up-to-date!\n"
     ]
    }
   ],
   "source": [
    "import pandas as pd\n",
    "import boto3\n",
    "import sagemaker\n",
    "\n",
    "# Stopworrds\n",
    "import nltk\n",
    "nltk.download('stopwords')\n",
    "\n",
    "from nltk.tokenize import word_tokenize\n",
    "from collections import Counter\n",
    "nltk.download('punkt')\n",
    "\n",
    "import spacy\n",
    "nlp = spacy.load('pt_core_news_sm')\n",
    "\n",
    "# Treino e Teste\n",
    "from sklearn.model_selection import train_test_split"
   ]
  },
  {
   "cell_type": "markdown",
   "id": "1c0bf318-2693-4b87-9d3d-a5da257445b8",
   "metadata": {},
   "source": [
    "# Conexão S3"
   ]
  },
  {
   "cell_type": "markdown",
   "id": "0c03d9cb-5a70-4f14-bac3-7e015d814e18",
   "metadata": {},
   "source": [
    "Conexão no s3 para verificar região e role"
   ]
  },
  {
   "cell_type": "code",
   "execution_count": 3,
   "id": "e3cbc642-f9f7-4858-87e9-79cbf03583d1",
   "metadata": {},
   "outputs": [
    {
     "name": "stdout",
     "output_type": "stream",
     "text": [
      "eu-west-1\n",
      "arn:aws:iam::009160052737:role/service-role/AmazonSageMaker-ExecutionRole-20240724T122434\n"
     ]
    }
   ],
   "source": [
    "boto_session = boto3.session.Session()\n",
    "region = boto_session.region_name\n",
    "print(region)\n",
    "\n",
    "sagemaker_session = sagemaker.Session()\n",
    "base_job_prefix = \"xgboost-no-show\"\n",
    "role = sagemaker.get_execution_role()\n",
    "print(role)\n",
    "\n",
    "default_bucket = sagemaker_session.default_bucket()\n",
    "s3_prefix = base_job_prefix\n",
    "\n",
    "training_instance_type = \"ml.m5.large\""
   ]
  },
  {
   "cell_type": "markdown",
   "id": "407284b1-1c99-451c-bf80-bdd73c8398a1",
   "metadata": {},
   "source": [
    "## Funções"
   ]
  },
  {
   "cell_type": "markdown",
   "id": "eb30049c-2bc7-4ad2-baea-76c9ed3d62e5",
   "metadata": {},
   "source": [
    "Função de lematização"
   ]
  },
  {
   "cell_type": "code",
   "execution_count": 4,
   "id": "9e344467-d981-40d5-bab4-d66f5fab00b3",
   "metadata": {},
   "outputs": [],
   "source": [
    "# função de lematização completa do documento\n",
    "def lemmatizer_text(text):\n",
    "    doc = nlp(text, disable=[\"parser\", \"ner\"])\n",
    "    return \" \".join(token.lemma_ for token in doc)"
   ]
  },
  {
   "cell_type": "markdown",
   "id": "a7d4ce3b-9541-4cd3-9b43-8d9d1b5eb2d1",
   "metadata": {},
   "source": [
    "# Importação DataFrame"
   ]
  },
  {
   "cell_type": "markdown",
   "id": "6b8b3215-70f4-4a21-a523-3e9c85adb4fc",
   "metadata": {},
   "source": [
    "Importação de dataframe importado no S3"
   ]
  },
  {
   "cell_type": "code",
   "execution_count": 5,
   "id": "4c829080-8feb-447d-b1a9-50e812bb0fce",
   "metadata": {},
   "outputs": [
    {
     "data": {
      "text/html": [
       "<div>\n",
       "<style scoped>\n",
       "    .dataframe tbody tr th:only-of-type {\n",
       "        vertical-align: middle;\n",
       "    }\n",
       "\n",
       "    .dataframe tbody tr th {\n",
       "        vertical-align: top;\n",
       "    }\n",
       "\n",
       "    .dataframe thead th {\n",
       "        text-align: right;\n",
       "    }\n",
       "</style>\n",
       "<table border=\"1\" class=\"dataframe\">\n",
       "  <thead>\n",
       "    <tr style=\"text-align: right;\">\n",
       "      <th></th>\n",
       "      <th>id_reclamacao</th>\n",
       "      <th>data_abertura</th>\n",
       "      <th>categoria</th>\n",
       "      <th>descricao_reclamacao</th>\n",
       "    </tr>\n",
       "  </thead>\n",
       "  <tbody>\n",
       "    <tr>\n",
       "      <th>0</th>\n",
       "      <td>3229299</td>\n",
       "      <td>2019-05-01T12:00:00-05:00</td>\n",
       "      <td>Hipotecas / Empréstimos</td>\n",
       "      <td>Bom dia, meu nome é xxxx xxxx e agradeço se vo...</td>\n",
       "    </tr>\n",
       "    <tr>\n",
       "      <th>1</th>\n",
       "      <td>3199379</td>\n",
       "      <td>2019-04-02T12:00:00-05:00</td>\n",
       "      <td>Cartão de crédito / Cartão pré-pago</td>\n",
       "      <td>Atualizei meu cartão xxxx xxxx em xx/xx/2018 e...</td>\n",
       "    </tr>\n",
       "    <tr>\n",
       "      <th>2</th>\n",
       "      <td>3233499</td>\n",
       "      <td>2019-05-06T12:00:00-05:00</td>\n",
       "      <td>Cartão de crédito / Cartão pré-pago</td>\n",
       "      <td>O cartão Chase foi relatado em xx/xx/2019. No ...</td>\n",
       "    </tr>\n",
       "    <tr>\n",
       "      <th>3</th>\n",
       "      <td>3180294</td>\n",
       "      <td>2019-03-14T12:00:00-05:00</td>\n",
       "      <td>Cartão de crédito / Cartão pré-pago</td>\n",
       "      <td>Em xx/xx/2018, enquanto tentava reservar um ti...</td>\n",
       "    </tr>\n",
       "    <tr>\n",
       "      <th>4</th>\n",
       "      <td>3224980</td>\n",
       "      <td>2019-04-27T12:00:00-05:00</td>\n",
       "      <td>Serviços de conta bancária</td>\n",
       "      <td>Meu neto me dê cheque por {$ 1600,00} Eu depos...</td>\n",
       "    </tr>\n",
       "    <tr>\n",
       "      <th>...</th>\n",
       "      <td>...</td>\n",
       "      <td>...</td>\n",
       "      <td>...</td>\n",
       "      <td>...</td>\n",
       "    </tr>\n",
       "    <tr>\n",
       "      <th>21067</th>\n",
       "      <td>3094545</td>\n",
       "      <td>2018-12-07T12:00:00-05:00</td>\n",
       "      <td>Cartão de crédito / Cartão pré-pago</td>\n",
       "      <td>Depois de ser um cliente de cartão de persegui...</td>\n",
       "    </tr>\n",
       "    <tr>\n",
       "      <th>21068</th>\n",
       "      <td>3091984</td>\n",
       "      <td>2018-12-05T12:00:00-05:00</td>\n",
       "      <td>Roubo / Relatório de disputa</td>\n",
       "      <td>Na quarta -feira, xx/xx/xxxx, liguei para o Ch...</td>\n",
       "    </tr>\n",
       "    <tr>\n",
       "      <th>21069</th>\n",
       "      <td>3133355</td>\n",
       "      <td>2019-01-25T12:00:00-05:00</td>\n",
       "      <td>Roubo / Relatório de disputa</td>\n",
       "      <td>Não estou familiarizado com o XXXX Pay e não e...</td>\n",
       "    </tr>\n",
       "    <tr>\n",
       "      <th>21070</th>\n",
       "      <td>3110963</td>\n",
       "      <td>2018-12-27T12:00:00-05:00</td>\n",
       "      <td>Outros</td>\n",
       "      <td>Eu tive crédito impecável por 30 anos. Eu tive...</td>\n",
       "    </tr>\n",
       "    <tr>\n",
       "      <th>21071</th>\n",
       "      <td>2001189</td>\n",
       "      <td>2016-07-06T12:00:00-05:00</td>\n",
       "      <td>Outros</td>\n",
       "      <td>Mais de 10 anos atrás, encerrei minhas contas ...</td>\n",
       "    </tr>\n",
       "  </tbody>\n",
       "</table>\n",
       "<p>21072 rows × 4 columns</p>\n",
       "</div>"
      ],
      "text/plain": [
       "       id_reclamacao              data_abertura  \\\n",
       "0            3229299  2019-05-01T12:00:00-05:00   \n",
       "1            3199379  2019-04-02T12:00:00-05:00   \n",
       "2            3233499  2019-05-06T12:00:00-05:00   \n",
       "3            3180294  2019-03-14T12:00:00-05:00   \n",
       "4            3224980  2019-04-27T12:00:00-05:00   \n",
       "...              ...                        ...   \n",
       "21067        3094545  2018-12-07T12:00:00-05:00   \n",
       "21068        3091984  2018-12-05T12:00:00-05:00   \n",
       "21069        3133355  2019-01-25T12:00:00-05:00   \n",
       "21070        3110963  2018-12-27T12:00:00-05:00   \n",
       "21071        2001189  2016-07-06T12:00:00-05:00   \n",
       "\n",
       "                                 categoria  \\\n",
       "0                  Hipotecas / Empréstimos   \n",
       "1      Cartão de crédito / Cartão pré-pago   \n",
       "2      Cartão de crédito / Cartão pré-pago   \n",
       "3      Cartão de crédito / Cartão pré-pago   \n",
       "4               Serviços de conta bancária   \n",
       "...                                    ...   \n",
       "21067  Cartão de crédito / Cartão pré-pago   \n",
       "21068         Roubo / Relatório de disputa   \n",
       "21069         Roubo / Relatório de disputa   \n",
       "21070                               Outros   \n",
       "21071                               Outros   \n",
       "\n",
       "                                    descricao_reclamacao  \n",
       "0      Bom dia, meu nome é xxxx xxxx e agradeço se vo...  \n",
       "1      Atualizei meu cartão xxxx xxxx em xx/xx/2018 e...  \n",
       "2      O cartão Chase foi relatado em xx/xx/2019. No ...  \n",
       "3      Em xx/xx/2018, enquanto tentava reservar um ti...  \n",
       "4      Meu neto me dê cheque por {$ 1600,00} Eu depos...  \n",
       "...                                                  ...  \n",
       "21067  Depois de ser um cliente de cartão de persegui...  \n",
       "21068  Na quarta -feira, xx/xx/xxxx, liguei para o Ch...  \n",
       "21069  Não estou familiarizado com o XXXX Pay e não e...  \n",
       "21070  Eu tive crédito impecável por 30 anos. Eu tive...  \n",
       "21071  Mais de 10 anos atrás, encerrei minhas contas ...  \n",
       "\n",
       "[21072 rows x 4 columns]"
      ]
     },
     "execution_count": 5,
     "metadata": {},
     "output_type": "execute_result"
    }
   ],
   "source": [
    "# Configurar a conexão com o S3\n",
    "s3 = boto3.client('s3')\n",
    "bucket_name = 'vitor-fiap'\n",
    "file_key = 'dataset_nlp/tickets_reclamacoes_classificados.csv'\n",
    "\n",
    "# Carregar dataset\n",
    "response = s3.get_object(Bucket=bucket_name, Key=file_key)\n",
    "df = pd.read_csv(response['Body'], delimiter=';')\n",
    "df"
   ]
  },
  {
   "cell_type": "markdown",
   "id": "d787f3b3-68f2-428a-b58f-3e4ed6279cf3",
   "metadata": {},
   "source": [
    "# Feature Engineering"
   ]
  },
  {
   "cell_type": "markdown",
   "id": "f7492f8e-6769-4905-86c0-a54107a9cdbf",
   "metadata": {},
   "source": [
    "Deletando colunas que não serão necessarias para o processo de NLP, sendo elas id_reclamacao e data_abertura."
   ]
  },
  {
   "cell_type": "code",
   "execution_count": 6,
   "id": "654150ee-e7ca-424a-92d5-baba4fa688b5",
   "metadata": {},
   "outputs": [],
   "source": [
    "df.drop(columns=['id_reclamacao', 'data_abertura'], inplace=True)"
   ]
  },
  {
   "cell_type": "markdown",
   "id": "2458da00-9911-44a5-9caa-aa8e44d06127",
   "metadata": {},
   "source": [
    "Tratamento da coluna descricao_reclamacao para termos um melhor resultado"
   ]
  },
  {
   "cell_type": "code",
   "execution_count": 7,
   "id": "a9044956-430e-4f5b-b116-734dc78395f3",
   "metadata": {},
   "outputs": [
    {
     "data": {
      "text/html": [
       "<div>\n",
       "<style scoped>\n",
       "    .dataframe tbody tr th:only-of-type {\n",
       "        vertical-align: middle;\n",
       "    }\n",
       "\n",
       "    .dataframe tbody tr th {\n",
       "        vertical-align: top;\n",
       "    }\n",
       "\n",
       "    .dataframe thead th {\n",
       "        text-align: right;\n",
       "    }\n",
       "</style>\n",
       "<table border=\"1\" class=\"dataframe\">\n",
       "  <thead>\n",
       "    <tr style=\"text-align: right;\">\n",
       "      <th></th>\n",
       "      <th>categoria</th>\n",
       "      <th>descricao_reclamacao</th>\n",
       "    </tr>\n",
       "  </thead>\n",
       "  <tbody>\n",
       "    <tr>\n",
       "      <th>0</th>\n",
       "      <td>Hipotecas / Empréstimos</td>\n",
       "      <td>bom dia, meu nome é   e agradeço se você puder...</td>\n",
       "    </tr>\n",
       "    <tr>\n",
       "      <th>1</th>\n",
       "      <td>Cartão de crédito / Cartão pré-pago</td>\n",
       "      <td>atualizei meu cartão   em //2018 e fui informa...</td>\n",
       "    </tr>\n",
       "    <tr>\n",
       "      <th>2</th>\n",
       "      <td>Cartão de crédito / Cartão pré-pago</td>\n",
       "      <td>o cartão chase foi relatado em //2019. no enta...</td>\n",
       "    </tr>\n",
       "    <tr>\n",
       "      <th>3</th>\n",
       "      <td>Cartão de crédito / Cartão pré-pago</td>\n",
       "      <td>em //2018, enquanto tentava reservar um ticket...</td>\n",
       "    </tr>\n",
       "    <tr>\n",
       "      <th>4</th>\n",
       "      <td>Serviços de conta bancária</td>\n",
       "      <td>meu neto me dê cheque por {$ 1600,00} eu depos...</td>\n",
       "    </tr>\n",
       "    <tr>\n",
       "      <th>...</th>\n",
       "      <td>...</td>\n",
       "      <td>...</td>\n",
       "    </tr>\n",
       "    <tr>\n",
       "      <th>21067</th>\n",
       "      <td>Cartão de crédito / Cartão pré-pago</td>\n",
       "      <td>depois de ser um cliente de cartão de persegui...</td>\n",
       "    </tr>\n",
       "    <tr>\n",
       "      <th>21068</th>\n",
       "      <td>Roubo / Relatório de disputa</td>\n",
       "      <td>na quarta -feira, //, liguei para o chas, meu ...</td>\n",
       "    </tr>\n",
       "    <tr>\n",
       "      <th>21069</th>\n",
       "      <td>Roubo / Relatório de disputa</td>\n",
       "      <td>não estou familiarizado com o  pay e não enten...</td>\n",
       "    </tr>\n",
       "    <tr>\n",
       "      <th>21070</th>\n",
       "      <td>Outros</td>\n",
       "      <td>eu tive crédito impecável por 30 anos. eu tive...</td>\n",
       "    </tr>\n",
       "    <tr>\n",
       "      <th>21071</th>\n",
       "      <td>Outros</td>\n",
       "      <td>mais de 10 anos atrás, encerrei minhas contas ...</td>\n",
       "    </tr>\n",
       "  </tbody>\n",
       "</table>\n",
       "<p>21072 rows × 2 columns</p>\n",
       "</div>"
      ],
      "text/plain": [
       "                                 categoria  \\\n",
       "0                  Hipotecas / Empréstimos   \n",
       "1      Cartão de crédito / Cartão pré-pago   \n",
       "2      Cartão de crédito / Cartão pré-pago   \n",
       "3      Cartão de crédito / Cartão pré-pago   \n",
       "4               Serviços de conta bancária   \n",
       "...                                    ...   \n",
       "21067  Cartão de crédito / Cartão pré-pago   \n",
       "21068         Roubo / Relatório de disputa   \n",
       "21069         Roubo / Relatório de disputa   \n",
       "21070                               Outros   \n",
       "21071                               Outros   \n",
       "\n",
       "                                    descricao_reclamacao  \n",
       "0      bom dia, meu nome é   e agradeço se você puder...  \n",
       "1      atualizei meu cartão   em //2018 e fui informa...  \n",
       "2      o cartão chase foi relatado em //2019. no enta...  \n",
       "3      em //2018, enquanto tentava reservar um ticket...  \n",
       "4      meu neto me dê cheque por {$ 1600,00} eu depos...  \n",
       "...                                                  ...  \n",
       "21067  depois de ser um cliente de cartão de persegui...  \n",
       "21068  na quarta -feira, //, liguei para o chas, meu ...  \n",
       "21069  não estou familiarizado com o  pay e não enten...  \n",
       "21070  eu tive crédito impecável por 30 anos. eu tive...  \n",
       "21071  mais de 10 anos atrás, encerrei minhas contas ...  \n",
       "\n",
       "[21072 rows x 2 columns]"
      ]
     },
     "execution_count": 7,
     "metadata": {},
     "output_type": "execute_result"
    }
   ],
   "source": [
    "# Trasnformando descricao_reclamacao em lower case\n",
    "df.descricao_reclamacao = df.descricao_reclamacao.str.lower()\n",
    "\n",
    "# Dicionario de dubstituições\n",
    "replace_dict = {'xx': ''}\n",
    "\n",
    "# Substituindo os valores XX e 00 por vazio\n",
    "df.descricao_reclamacao = df.descricao_reclamacao.replace(replace_dict, regex=True)\n",
    "df"
   ]
  },
  {
   "cell_type": "markdown",
   "id": "b742c570-d3a3-4baf-a691-1f4628f50326",
   "metadata": {},
   "source": [
    "## Stop Words"
   ]
  },
  {
   "cell_type": "markdown",
   "id": "7884022f-24a6-40cd-95c6-cc9f921ea81e",
   "metadata": {},
   "source": [
    "Criação de variaveis para stop words"
   ]
  },
  {
   "cell_type": "code",
   "execution_count": 8,
   "id": "8c810c4c-ac8e-45e7-8fc5-30fe7162fc98",
   "metadata": {},
   "outputs": [
    {
     "name": "stdout",
     "output_type": "stream",
     "text": [
      "Stops_nltk:  207\n",
      "Stops_nlp:   416\n",
      "Stops_comb:  500\n"
     ]
    }
   ],
   "source": [
    "stops_nltk = nltk.corpus.stopwords.words('portuguese')\n",
    "stops_nlp = list(nlp.Defaults.stop_words)\n",
    "stops_comb = list(set(nlp.Defaults.stop_words).union(set(nltk.corpus.stopwords.words('portuguese'))))\n",
    "print('Stops_nltk: ', len(stops_nltk))\n",
    "print('Stops_nlp:  ', len(stops_nlp))\n",
    "print('Stops_comb: ', len(stops_comb))"
   ]
  },
  {
   "cell_type": "markdown",
   "id": "a5b0ebd6-6e22-4cef-a710-a8732c70c333",
   "metadata": {},
   "source": [
    "Lematização da coluna descricao_reclamacao"
   ]
  },
  {
   "cell_type": "code",
   "execution_count": 9,
   "id": "944f00ed-f5e1-4b5f-844e-80adb59c6f1b",
   "metadata": {
    "scrolled": true
   },
   "outputs": [
    {
     "data": {
      "text/html": [
       "<div>\n",
       "<style scoped>\n",
       "    .dataframe tbody tr th:only-of-type {\n",
       "        vertical-align: middle;\n",
       "    }\n",
       "\n",
       "    .dataframe tbody tr th {\n",
       "        vertical-align: top;\n",
       "    }\n",
       "\n",
       "    .dataframe thead th {\n",
       "        text-align: right;\n",
       "    }\n",
       "</style>\n",
       "<table border=\"1\" class=\"dataframe\">\n",
       "  <thead>\n",
       "    <tr style=\"text-align: right;\">\n",
       "      <th></th>\n",
       "      <th>categoria</th>\n",
       "      <th>descricao_reclamacao</th>\n",
       "      <th>descricao_reclamacao_lemma</th>\n",
       "    </tr>\n",
       "  </thead>\n",
       "  <tbody>\n",
       "    <tr>\n",
       "      <th>0</th>\n",
       "      <td>Hipotecas / Empréstimos</td>\n",
       "      <td>bom dia, meu nome é   e agradeço se você puder...</td>\n",
       "      <td>bom dia , meu nome ser    e agradeço se você p...</td>\n",
       "    </tr>\n",
       "    <tr>\n",
       "      <th>1</th>\n",
       "      <td>Cartão de crédito / Cartão pré-pago</td>\n",
       "      <td>atualizei meu cartão   em //2018 e fui informa...</td>\n",
       "      <td>atualizei meu cartão    em //2018 e ser inform...</td>\n",
       "    </tr>\n",
       "    <tr>\n",
       "      <th>2</th>\n",
       "      <td>Cartão de crédito / Cartão pré-pago</td>\n",
       "      <td>o cartão chase foi relatado em //2019. no enta...</td>\n",
       "      <td>o cartão chase ser relatar em //2019 . em o en...</td>\n",
       "    </tr>\n",
       "    <tr>\n",
       "      <th>3</th>\n",
       "      <td>Cartão de crédito / Cartão pré-pago</td>\n",
       "      <td>em //2018, enquanto tentava reservar um ticket...</td>\n",
       "      <td>em //2018 , enquanto tentar reservar um ticket...</td>\n",
       "    </tr>\n",
       "    <tr>\n",
       "      <th>4</th>\n",
       "      <td>Serviços de conta bancária</td>\n",
       "      <td>meu neto me dê cheque por {$ 1600,00} eu depos...</td>\n",
       "      <td>meu neto eu dê cheque por { $ 1600,00 } eu dep...</td>\n",
       "    </tr>\n",
       "    <tr>\n",
       "      <th>...</th>\n",
       "      <td>...</td>\n",
       "      <td>...</td>\n",
       "      <td>...</td>\n",
       "    </tr>\n",
       "    <tr>\n",
       "      <th>21067</th>\n",
       "      <td>Cartão de crédito / Cartão pré-pago</td>\n",
       "      <td>depois de ser um cliente de cartão de persegui...</td>\n",
       "      <td>depois de ser um cliente de cartão de persegui...</td>\n",
       "    </tr>\n",
       "    <tr>\n",
       "      <th>21068</th>\n",
       "      <td>Roubo / Relatório de disputa</td>\n",
       "      <td>na quarta -feira, //, liguei para o chas, meu ...</td>\n",
       "      <td>em o quarto -feira , // , liguei para o cha , ...</td>\n",
       "    </tr>\n",
       "    <tr>\n",
       "      <th>21069</th>\n",
       "      <td>Roubo / Relatório de disputa</td>\n",
       "      <td>não estou familiarizado com o  pay e não enten...</td>\n",
       "      <td>não estar familiarizado com o   pay e não ente...</td>\n",
       "    </tr>\n",
       "    <tr>\n",
       "      <th>21070</th>\n",
       "      <td>Outros</td>\n",
       "      <td>eu tive crédito impecável por 30 anos. eu tive...</td>\n",
       "      <td>eu ter crédito impecável por 30 ano . eu ter c...</td>\n",
       "    </tr>\n",
       "    <tr>\n",
       "      <th>21071</th>\n",
       "      <td>Outros</td>\n",
       "      <td>mais de 10 anos atrás, encerrei minhas contas ...</td>\n",
       "      <td>mais de 10 ano atrás , encerr meu conta com o ...</td>\n",
       "    </tr>\n",
       "  </tbody>\n",
       "</table>\n",
       "<p>21072 rows × 3 columns</p>\n",
       "</div>"
      ],
      "text/plain": [
       "                                 categoria  \\\n",
       "0                  Hipotecas / Empréstimos   \n",
       "1      Cartão de crédito / Cartão pré-pago   \n",
       "2      Cartão de crédito / Cartão pré-pago   \n",
       "3      Cartão de crédito / Cartão pré-pago   \n",
       "4               Serviços de conta bancária   \n",
       "...                                    ...   \n",
       "21067  Cartão de crédito / Cartão pré-pago   \n",
       "21068         Roubo / Relatório de disputa   \n",
       "21069         Roubo / Relatório de disputa   \n",
       "21070                               Outros   \n",
       "21071                               Outros   \n",
       "\n",
       "                                    descricao_reclamacao  \\\n",
       "0      bom dia, meu nome é   e agradeço se você puder...   \n",
       "1      atualizei meu cartão   em //2018 e fui informa...   \n",
       "2      o cartão chase foi relatado em //2019. no enta...   \n",
       "3      em //2018, enquanto tentava reservar um ticket...   \n",
       "4      meu neto me dê cheque por {$ 1600,00} eu depos...   \n",
       "...                                                  ...   \n",
       "21067  depois de ser um cliente de cartão de persegui...   \n",
       "21068  na quarta -feira, //, liguei para o chas, meu ...   \n",
       "21069  não estou familiarizado com o  pay e não enten...   \n",
       "21070  eu tive crédito impecável por 30 anos. eu tive...   \n",
       "21071  mais de 10 anos atrás, encerrei minhas contas ...   \n",
       "\n",
       "                              descricao_reclamacao_lemma  \n",
       "0      bom dia , meu nome ser    e agradeço se você p...  \n",
       "1      atualizei meu cartão    em //2018 e ser inform...  \n",
       "2      o cartão chase ser relatar em //2019 . em o en...  \n",
       "3      em //2018 , enquanto tentar reservar um ticket...  \n",
       "4      meu neto eu dê cheque por { $ 1600,00 } eu dep...  \n",
       "...                                                  ...  \n",
       "21067  depois de ser um cliente de cartão de persegui...  \n",
       "21068  em o quarto -feira , // , liguei para o cha , ...  \n",
       "21069  não estar familiarizado com o   pay e não ente...  \n",
       "21070  eu ter crédito impecável por 30 ano . eu ter c...  \n",
       "21071  mais de 10 ano atrás , encerr meu conta com o ...  \n",
       "\n",
       "[21072 rows x 3 columns]"
      ]
     },
     "execution_count": 9,
     "metadata": {},
     "output_type": "execute_result"
    }
   ],
   "source": [
    "# aplica a lematização no dataframe e criando nova coluna\n",
    "df['descricao_reclamacao_lemma'] = df.descricao_reclamacao.apply(lemmatizer_text)\n",
    "df"
   ]
  },
  {
   "cell_type": "markdown",
   "id": "a01fd522-9d33-4a67-a44a-bd14fd9cb993",
   "metadata": {},
   "source": [
    "Deletando a coluna descricao_reclamacao"
   ]
  },
  {
   "cell_type": "code",
   "execution_count": 10,
   "id": "d837cb2d-b06d-45db-b900-daa6bb96da6f",
   "metadata": {
    "scrolled": true
   },
   "outputs": [],
   "source": [
    "df.drop(columns=['descricao_reclamacao'], inplace=True)"
   ]
  },
  {
   "cell_type": "markdown",
   "id": "795b3aad-1eb6-4247-b886-46602f1404f6",
   "metadata": {},
   "source": [
    "# Treino e Teste"
   ]
  },
  {
   "cell_type": "markdown",
   "id": "9481a0e1-0096-446a-baf3-2673e6da74fb",
   "metadata": {},
   "source": [
    "Separação de treino e teste"
   ]
  },
  {
   "cell_type": "code",
   "execution_count": 13,
   "id": "44513644-7933-47f4-b61b-cb5a4fa13493",
   "metadata": {},
   "outputs": [],
   "source": [
    "df_train, df_test = train_test_split(df, test_size = 0.25, random_state = 42)"
   ]
  },
  {
   "cell_type": "markdown",
   "id": "5b61c499-e9b1-49be-81e1-48aac1626946",
   "metadata": {},
   "source": [
    "# Exportação"
   ]
  },
  {
   "cell_type": "markdown",
   "id": "3da97fee-3bc9-4008-9576-43f1006baaeb",
   "metadata": {},
   "source": [
    "Exportação dos dataframes de treino e teste para rodar no Amazon Comprehend"
   ]
  },
  {
   "cell_type": "code",
   "execution_count": 14,
   "id": "2ce9ef78-3da1-449d-bdb3-a99aecc24dac",
   "metadata": {},
   "outputs": [],
   "source": [
    "df_train.to_csv(\"tickets_reclamacoes_classificados_treino.csv\", index=False, header=False)"
   ]
  },
  {
   "cell_type": "code",
   "execution_count": 15,
   "id": "d7293de4-780d-4774-863d-6cfe85b56c89",
   "metadata": {},
   "outputs": [],
   "source": [
    "df_test.to_csv(\"tickets_reclamacoes_classificados_teste.csv\", index=False, header=False)"
   ]
  }
 ],
 "metadata": {
  "kernelspec": {
   "display_name": "Python 3 (ipykernel)",
   "language": "python",
   "name": "python3"
  },
  "language_info": {
   "codemirror_mode": {
    "name": "ipython",
    "version": 3
   },
   "file_extension": ".py",
   "mimetype": "text/x-python",
   "name": "python",
   "nbconvert_exporter": "python",
   "pygments_lexer": "ipython3",
   "version": "3.10.14"
  }
 },
 "nbformat": 4,
 "nbformat_minor": 5
}
